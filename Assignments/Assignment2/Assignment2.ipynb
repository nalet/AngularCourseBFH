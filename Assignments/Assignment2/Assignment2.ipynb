{
  "nbformat": 4,
  "nbformat_minor": 0,
  "metadata": {
    "kernelspec": {
      "name": "python3",
      "display_name": "Python 3"
    },
    "language_info": {
      "codemirror_mode": {
        "name": "ipython",
        "version": 3
      },
      "file_extension": ".py",
      "mimetype": "text/x-python",
      "name": "python",
      "nbconvert_exporter": "python",
      "pygments_lexer": "ipython3",
      "version": "3.7.6"
    },
    "colab": {
      "name": "Assignment2.ipynb",
      "provenance": [],
      "collapsed_sections": [],
      "toc_visible": true,
      "machine_shape": "hm"
    },
    "accelerator": "GPU"
  },
  "cells": [
    {
      "cell_type": "markdown",
      "metadata": {
        "id": "gSmo9DKrVxU5",
        "colab_type": "text"
      },
      "source": [
        "# Name: Nalet Meinen¶"
      ]
    },
    {
      "cell_type": "markdown",
      "metadata": {
        "id": "tgX7Vv-OVxU6",
        "colab_type": "text"
      },
      "source": [
        "# Assignment 2 ATML 2020\n",
        "## Classification with limited data\n",
        "ImageNet is a well known dataset with 1000 image classes. We will be working on a subset of the dataset (60k images, 100 classes, 600 images per class 80$\\times$80 pixels, RGB) and train a model to classify an image into one of the 100 classes. The dataset is located under the \"data\" directory. Training and validation data splits are under \"data/train\" and \"data/val\" directories respectively. Both splits consist of 100 directories, each representing an object category."
      ]
    },
    {
      "cell_type": "code",
      "metadata": {
        "id": "DsHFn3Q0Ae0n",
        "colab_type": "code",
        "colab": {}
      },
      "source": [
        "import numpy as np\n",
        "import time\n",
        "import torch\n",
        "from torchvision import transforms\n",
        "from torch.utils.data import DataLoader\n",
        "import torch.nn as nn\n",
        "from tqdm import tqdm\n",
        "import matplotlib.pyplot as plt"
      ],
      "execution_count": 0,
      "outputs": []
    },
    {
      "cell_type": "code",
      "metadata": {
        "id": "zX7PJ18sAMRD",
        "colab_type": "code",
        "outputId": "68ddb810-c5ed-4398-c2fe-4caa121dd1d9",
        "colab": {
          "base_uri": "https://localhost:8080/",
          "height": 312
        }
      },
      "source": [
        "!nvidia-smi"
      ],
      "execution_count": 2,
      "outputs": [
        {
          "output_type": "stream",
          "text": [
            "Sun Apr 19 15:14:03 2020       \n",
            "+-----------------------------------------------------------------------------+\n",
            "| NVIDIA-SMI 440.64.00    Driver Version: 418.67       CUDA Version: 10.1     |\n",
            "|-------------------------------+----------------------+----------------------+\n",
            "| GPU  Name        Persistence-M| Bus-Id        Disp.A | Volatile Uncorr. ECC |\n",
            "| Fan  Temp  Perf  Pwr:Usage/Cap|         Memory-Usage | GPU-Util  Compute M. |\n",
            "|===============================+======================+======================|\n",
            "|   0  Tesla P100-PCIE...  Off  | 00000000:00:04.0 Off |                    0 |\n",
            "| N/A   64C    P0    48W / 250W |      0MiB / 16280MiB |      0%      Default |\n",
            "+-------------------------------+----------------------+----------------------+\n",
            "                                                                               \n",
            "+-----------------------------------------------------------------------------+\n",
            "| Processes:                                                       GPU Memory |\n",
            "|  GPU       PID   Type   Process name                             Usage      |\n",
            "|=============================================================================|\n",
            "|  No running processes found                                                 |\n",
            "+-----------------------------------------------------------------------------+\n"
          ],
          "name": "stdout"
        }
      ]
    },
    {
      "cell_type": "code",
      "metadata": {
        "id": "Pw0v56AGb2Gm",
        "colab_type": "code",
        "colab": {}
      },
      "source": [
        "import os.path\n",
        "if not os.path.isfile('data.zip'):\n",
        "    from google.colab import drive\n",
        "    drive.mount('/content/drive')\n",
        "    !cp -r \"/content/drive/My Drive/ATML/Assignments/Assignment2/data.zip\" \"data.zip\"\n",
        "    !unzip -qq data.zip"
      ],
      "execution_count": 0,
      "outputs": []
    },
    {
      "cell_type": "markdown",
      "metadata": {
        "id": "xfcARXbwVxU6",
        "colab_type": "text"
      },
      "source": [
        "## Task 1. Implement ImageNetLimited class for data loading in datasets.py file"
      ]
    },
    {
      "cell_type": "code",
      "metadata": {
        "id": "hImAGzfWBPQp",
        "colab_type": "code",
        "colab": {}
      },
      "source": [
        "from PIL import Image\n",
        "import glob\n",
        "import torch\n",
        "import os.path\n",
        "\n",
        "class ImageNetLimited(torch.utils.data.Dataset):\n",
        "    \"\"\"ImageNet Limited dataset.\"\"\"\n",
        "    \n",
        "    def __init__(self, root_dir, transform, instances=1,selected_classes=None):\n",
        "        data = []\n",
        "\n",
        "        for path in tqdm(glob.glob(root_dir + \"/**/*\")):\n",
        "            target = int(os.path.basename(os.path.dirname(path)))\n",
        "\n",
        "            if selected_classes != None and target not in selected_classes:\n",
        "                continue\n",
        "\n",
        "            _image = Image.open(path)\n",
        "            \n",
        "            for _ in range(instances):\n",
        "                data.append((transform(_image),target))\n",
        "        \n",
        "        self.n = len(data)\n",
        "        self.data = data\n",
        "\n",
        "    def __len__(self):\n",
        "        return self.n\n",
        "\n",
        "    def __getitem__(self, idx):\n",
        "        return self.data[idx]\n",
        "        "
      ],
      "execution_count": 0,
      "outputs": []
    },
    {
      "cell_type": "code",
      "metadata": {
        "id": "ioKktRw-VxU7",
        "colab_type": "code",
        "outputId": "63afee15-c6b3-4785-8610-88ab3440c786",
        "colab": {
          "base_uri": "https://localhost:8080/",
          "height": 87
        }
      },
      "source": [
        "train_dir = 'data/train'\n",
        "validation_dir = 'data/val'\n",
        "\n",
        "_t_mean=[0.485, 0.456, 0.406]\n",
        "_t_std=[0.229, 0.224, 0.225]\n",
        "\n",
        "_transforms_train = transforms.Compose([\n",
        "    transforms.RandomRotation([-45,45]),\n",
        "    transforms.RandomCrop(64),\n",
        "    transforms.RandomHorizontalFlip(),\n",
        "    transforms.ToTensor(),\n",
        "    transforms.Normalize(mean=_t_mean, std=_t_std)\n",
        "])\n",
        "\n",
        "_transforms_val = transforms.Compose([\n",
        "    transforms.CenterCrop(64),\n",
        "    transforms.ToTensor(),\n",
        "    transforms.Normalize(mean=_t_mean, std=_t_std)\n",
        "])\n",
        "\n",
        "selected_classes = None # [0,1,2,3,4,5,6,7,8,9]\n",
        "\n",
        "train_dataset = ImageNetLimited(train_dir,_transforms_train,5,selected_classes=selected_classes)\n",
        "val_dataset = ImageNetLimited(validation_dir,_transforms_val,selected_classes=selected_classes)\n",
        "\n",
        "print(\"\\n\",\"Train dataset length:\",len(train_dataset),\"Validation dataset length:\",len(val_dataset))"
      ],
      "execution_count": 5,
      "outputs": [
        {
          "output_type": "stream",
          "text": [
            "100%|██████████| 60000/60000 [02:03<00:00, 486.26it/s]\n",
            "100%|██████████| 29855/29855 [00:18<00:00, 1649.12it/s]"
          ],
          "name": "stderr"
        },
        {
          "output_type": "stream",
          "text": [
            "\n",
            " Train dataset length: 300000 Validation dataset length: 29855\n"
          ],
          "name": "stdout"
        },
        {
          "output_type": "stream",
          "text": [
            "\n"
          ],
          "name": "stderr"
        }
      ]
    },
    {
      "cell_type": "markdown",
      "metadata": {
        "id": "OuKhw5hjVxU_",
        "colab_type": "text"
      },
      "source": [
        "## Task 2. CNN Architecture\n",
        "Design and implement a Convolutional Neural Network architecture for image classification in a **ConvNet** class in the notebook. Some examples of popular classification models are: AlexNet, VGG, ResNet, ... Justify your design choices in the report. The input to your model must be an image of size $64 \\times 64$ pixels."
      ]
    },
    {
      "cell_type": "code",
      "metadata": {
        "id": "C0YCpHwaVxVA",
        "colab_type": "code",
        "colab": {}
      },
      "source": [
        "class Block(nn.Module):\n",
        "\n",
        "    def __init__(self, in_planes, planes, stride=1):\n",
        "        super(Block, self).__init__()\n",
        "        self.conv1 = nn.Conv2d(in_planes, planes, kernel_size=3, stride=stride, padding=1, bias=False)\n",
        "        self.bn1 = nn.BatchNorm2d(planes)\n",
        "        self.conv2 = nn.Conv2d(planes, planes, kernel_size=3, stride=1, padding=1, bias=False)\n",
        "        self.bn2 = nn.BatchNorm2d(planes)\n",
        "\n",
        "        self.shortcut = nn.Sequential()\n",
        "        if stride != 1 or in_planes != planes:\n",
        "            self.shortcut = nn.Sequential(\n",
        "                nn.Conv2d(in_planes, planes, kernel_size=1, stride=stride, bias=False), \n",
        "                nn.BatchNorm2d(planes)\n",
        "            )\n",
        "\n",
        "    def forward(self, input):\n",
        "        output = nn.functional.relu(self.bn1(self.conv1(input)))\n",
        "        output = self.bn2(self.conv2(output))\n",
        "        output += self.shortcut(input)\n",
        "        output = nn.functional.relu(output)\n",
        "        return output\n",
        "\n",
        "class ConvNet(nn.Module):\n",
        "\n",
        "    def __init__(self, num_blocks):\n",
        "        super(ConvNet, self).__init__()\n",
        "        self.in_planes = 64\n",
        "\n",
        "        self.conv1 = nn.Conv2d(3, 64, kernel_size=3, stride=1, padding=1, bias=False)\n",
        "        self.bn1 = nn.BatchNorm2d(64)\n",
        "        self.layer1 = self._make_layer(64, num_blocks[0], stride=1)\n",
        "        self.layer2 = self._make_layer(128, num_blocks[1], stride=2)\n",
        "        self.layer3 = self._make_layer(256, num_blocks[2], stride=2)\n",
        "        self.layer4 = self._make_layer(512, num_blocks[3], stride=2)\n",
        "        self.linear = nn.Linear(2048, 100)\n",
        "\n",
        "    def _make_layer(self, planes, num_blocks, stride):\n",
        "        strides = [stride] + [1] * (num_blocks - 1)\n",
        "        layers = []\n",
        "        for stride in strides:\n",
        "            layers.append(Block(self.in_planes, planes, stride))\n",
        "            self.in_planes = planes\n",
        "        return nn.Sequential(*layers)\n",
        "\n",
        "    def forward(self, input):\n",
        "        output = nn.functional.relu(self.bn1(self.conv1(input)))\n",
        "        output = self.layer1(output)\n",
        "        output = self.layer2(output)\n",
        "        output = self.layer3(output)\n",
        "        output = self.layer4(output)\n",
        "        output = nn.functional.avg_pool2d(output, 4)\n",
        "        output = torch.flatten(output, 1)\n",
        "        output = self.linear(output)\n",
        "        return nn.functional.log_softmax(output, dim=1)"
      ],
      "execution_count": 0,
      "outputs": []
    },
    {
      "cell_type": "markdown",
      "metadata": {
        "id": "K8fKCZAtVxVC",
        "colab_type": "text"
      },
      "source": [
        "## Task 3. Train Model\n",
        "Implement training and evaluation code for your model. Choose an appropriate loss function and evaluate the model on the validation set using classification accuracy. You are not allowed to use a pre-trained model (must train from scratch on the provided data).<br>\n",
        "<font color='red'>Your model should achieve an accuracy of at least 40.0% on the validation set (Model with performance smaller than 40.0% will result in 0 points for this task).</font><br>"
      ]
    },
    {
      "cell_type": "code",
      "metadata": {
        "id": "Sios0Oy4B2gw",
        "colab_type": "code",
        "colab": {},
        "cellView": "both"
      },
      "source": [
        "device = torch.device('cuda') if torch.cuda.is_available() else torch.device('cpu')\n",
        "\n",
        "def train(model, train_loader, optimizer, loss_fn):\n",
        "    '''\n",
        "    Trains the model for one epoch\n",
        "    '''\n",
        "    model.train()\n",
        "    losses = []\n",
        "    n_correct = 0\n",
        "    for iteration, (images, labels) in enumerate(tqdm(train_loader)):\n",
        "        images = images.to(device)\n",
        "        labels = labels.to(device)\n",
        "        output = model(images)\n",
        "        optimizer.zero_grad()\n",
        "        loss = loss_fn(output, labels)\n",
        "        loss.backward()\n",
        "        optimizer.step()\n",
        "        losses.append(loss.item())\n",
        "        n_correct += torch.sum(output.argmax(1) == labels).item()\n",
        "    accuracy = 100.0 * n_correct / len(train_loader.dataset)\n",
        "    return np.mean(np.array(losses)), accuracy\n",
        "            \n",
        "def test(model, test_loader, loss_fn):\n",
        "    '''\n",
        "    Tests the model on data from test_loader\n",
        "    '''\n",
        "    model.eval()\n",
        "    test_loss = 0\n",
        "    n_correct = 0\n",
        "    with torch.no_grad():\n",
        "        for images, labels in test_loader:\n",
        "            images = images.to(device)\n",
        "            labels = labels.to(device)\n",
        "            output = model(images)\n",
        "            loss = loss_fn(output, labels)\n",
        "            test_loss += loss.item()\n",
        "            n_correct += torch.sum(output.argmax(1) == labels).item()\n",
        "\n",
        "    average_loss = test_loss / len(test_loader)\n",
        "    accuracy = 100.0 * n_correct / len(test_loader.dataset)\n",
        "    return average_loss, accuracy\n",
        "\n",
        "\n",
        "def fit(taskname,train_dataloader, val_dataloader, num_blocks, optimizer, loss_fn, n_epochs, **optimizer_params):\n",
        "    model = ConvNet(num_blocks)\n",
        "    model = model.to(device)\n",
        "\n",
        "    optimizer = optimizer(model.parameters(), **optimizer_params)\n",
        "\n",
        "    train_losses, train_accuracies = [], []\n",
        "    val_losses, val_accuracies = [], []\n",
        "\n",
        "    last_val_accuracies = 0\n",
        "    best_epoch = 1\n",
        "\n",
        "    for epoch in range(n_epochs):\n",
        "        train_loss, train_accuracy = train(model, train_dataloader, optimizer, loss_fn)\n",
        "        val_loss, val_accuracy = test(model, val_dataloader, loss_fn)\n",
        "        train_losses.append(train_loss)\n",
        "        train_accuracies.append(train_accuracy)\n",
        "        val_losses.append(val_loss)\n",
        "        val_accuracies.append(val_accuracy)\n",
        "        time.sleep(0.250) # needed for tqdm\n",
        "        print(\"\"\"Epoch {}/{}: train_loss: {:.4f}, train_accuracy: {:.4f}, val_loss: {:.4f}, val_accuracy: {:.4f}\"\"\".format(\n",
        "                        epoch+1, n_epochs, train_losses[-1], train_accuracies[-1], val_losses[-1], val_accuracies[-1]))\n",
        "        time.sleep(0.250)\n",
        "        if val_accuracies[-1] > last_val_accuracies:\n",
        "            torch.save(model.state_dict(), str(taskname)+\".pht\")\n",
        "            best_epoch = epoch+1\n",
        "            last_val_accuracies = val_accuracies[-1]\n",
        "\n",
        "        best_model = ConvNet(num_blocks)\n",
        "        best_model = best_model.to(device)\n",
        "        best_model.load_state_dict(torch.load(str(taskname)+\".pht\"))\n",
        "\n",
        "    return train_losses, train_accuracies, val_losses, val_accuracies, loss_fn, best_model, best_epoch\n",
        "\n",
        "def plot_results(train_results, test_dataloader, val_dataloader):\n",
        "    train_losses, train_accuracies, val_losses, val_accuracies, loss_fn, best_model, best_epoch = train_results\n",
        "\n",
        "    fig, axs = plt.subplots(1, 2,figsize=(15, 4))\n",
        "\n",
        "    axs[0].plot(np.arange(len(train_losses)), train_losses)\n",
        "    axs[0].plot(np.arange(len(val_losses)), val_losses)\n",
        "    axs[0].legend(['train_loss', 'val_loss'])\n",
        "    axs[0].set_xlabel('epoch')\n",
        "    axs[0].set_ylabel('loss value')\n",
        "    axs[0].set_title('Train/val loss');\n",
        "\n",
        "    axs[1].plot(np.arange(len(train_accuracies)), train_accuracies)\n",
        "    axs[1].plot(np.arange(len(val_accuracies)), val_accuracies)\n",
        "    axs[1].legend(['train_acc', 'val_acc'])\n",
        "    axs[1].set_xlabel('epoch')\n",
        "    axs[1].set_ylabel('accuracy')\n",
        "    axs[1].set_title('Train/val accuracy');\n",
        "\n",
        "    plt.show()\n",
        "\n",
        "    m_loss, accuracy = test(best_model, val_dataloader, loss_fn)\n",
        "    print(\"Best Epoch:\", best_epoch, \"Average loss:\", m_loss, \"Accuracy:\", accuracy)\n",
        "    torch.cuda.empty_cache()"
      ],
      "execution_count": 0,
      "outputs": []
    },
    {
      "cell_type": "code",
      "metadata": {
        "id": "Iv6Or4a8VxVD",
        "colab_type": "code",
        "outputId": "0d047909-0889-4e92-f857-6cdc140bbd5d",
        "colab": {
          "base_uri": "https://localhost:8080/",
          "height": 694
        }
      },
      "source": [
        "%%time\n",
        "batch_size = 512\n",
        "train_dataloader = DataLoader(train_dataset, batch_size=batch_size, shuffle=True, num_workers=4)\n",
        "val_dataloader = DataLoader(val_dataset, batch_size=batch_size, shuffle=False, num_workers=4)\n",
        "optimizer = torch.optim.SGD\n",
        "n_epochs = 10\n",
        "loss_fn = nn.NLLLoss()\n",
        "task3_results = fit(\"task3\", train_dataloader, val_dataloader, [2, 2, 2, 2], optimizer, loss_fn, n_epochs, lr=0.02, momentum=0.9, weight_decay=5e-4)\n",
        "plot_results(task3_results, train_dataloader, val_dataloader)"
      ],
      "execution_count": 8,
      "outputs": [
        {
          "output_type": "stream",
          "text": [
            "100%|██████████| 586/586 [08:34<00:00,  1.14it/s]\n"
          ],
          "name": "stderr"
        },
        {
          "output_type": "stream",
          "text": [
            "Epoch 1/10: train_loss: 3.3827, train_accuracy: 18.1747, val_loss: 3.2366, val_accuracy: 21.9863\n"
          ],
          "name": "stdout"
        },
        {
          "output_type": "stream",
          "text": [
            "100%|██████████| 586/586 [08:34<00:00,  1.14it/s]\n"
          ],
          "name": "stderr"
        },
        {
          "output_type": "stream",
          "text": [
            "Epoch 2/10: train_loss: 2.4880, train_accuracy: 34.5513, val_loss: 2.7087, val_accuracy: 31.2443\n"
          ],
          "name": "stdout"
        },
        {
          "output_type": "stream",
          "text": [
            "100%|██████████| 586/586 [08:34<00:00,  1.14it/s]\n"
          ],
          "name": "stderr"
        },
        {
          "output_type": "stream",
          "text": [
            "Epoch 3/10: train_loss: 2.0406, train_accuracy: 44.3347, val_loss: 2.4829, val_accuracy: 35.7260\n"
          ],
          "name": "stdout"
        },
        {
          "output_type": "stream",
          "text": [
            "100%|██████████| 586/586 [08:34<00:00,  1.14it/s]\n"
          ],
          "name": "stderr"
        },
        {
          "output_type": "stream",
          "text": [
            "Epoch 4/10: train_loss: 1.7187, train_accuracy: 51.9950, val_loss: 2.3534, val_accuracy: 40.8776\n"
          ],
          "name": "stdout"
        },
        {
          "output_type": "stream",
          "text": [
            "100%|██████████| 586/586 [08:35<00:00,  1.14it/s]\n"
          ],
          "name": "stderr"
        },
        {
          "output_type": "stream",
          "text": [
            "Epoch 5/10: train_loss: 1.4569, train_accuracy: 58.5200, val_loss: 2.1933, val_accuracy: 43.4534\n"
          ],
          "name": "stdout"
        },
        {
          "output_type": "stream",
          "text": [
            "100%|██████████| 586/586 [08:35<00:00,  1.14it/s]\n"
          ],
          "name": "stderr"
        },
        {
          "output_type": "stream",
          "text": [
            "Epoch 6/10: train_loss: 1.2216, train_accuracy: 64.6750, val_loss: 2.3093, val_accuracy: 42.0600\n"
          ],
          "name": "stdout"
        },
        {
          "output_type": "stream",
          "text": [
            "100%|██████████| 586/586 [08:35<00:00,  1.14it/s]\n"
          ],
          "name": "stderr"
        },
        {
          "output_type": "stream",
          "text": [
            "Epoch 7/10: train_loss: 0.9990, train_accuracy: 70.5617, val_loss: 2.3303, val_accuracy: 44.1635\n"
          ],
          "name": "stdout"
        },
        {
          "output_type": "stream",
          "text": [
            "100%|██████████| 586/586 [08:34<00:00,  1.14it/s]\n"
          ],
          "name": "stderr"
        },
        {
          "output_type": "stream",
          "text": [
            "Epoch 8/10: train_loss: 0.7894, train_accuracy: 76.6097, val_loss: 2.3411, val_accuracy: 44.9941\n"
          ],
          "name": "stdout"
        },
        {
          "output_type": "stream",
          "text": [
            "100%|██████████| 586/586 [08:35<00:00,  1.14it/s]\n"
          ],
          "name": "stderr"
        },
        {
          "output_type": "stream",
          "text": [
            "Epoch 9/10: train_loss: 0.6063, train_accuracy: 81.9947, val_loss: 2.2746, val_accuracy: 46.6019\n"
          ],
          "name": "stdout"
        },
        {
          "output_type": "stream",
          "text": [
            "100%|██████████| 586/586 [08:34<00:00,  1.14it/s]\n"
          ],
          "name": "stderr"
        },
        {
          "output_type": "stream",
          "text": [
            "Epoch 10/10: train_loss: 0.4450, train_accuracy: 87.0333, val_loss: 2.5251, val_accuracy: 45.2521\n"
          ],
          "name": "stdout"
        },
        {
          "output_type": "display_data",
          "data": {
            "image/png": "[encoded data removed]",
            "text/plain": [
              "<Figure size 1080x288 with 2 Axes>"
            ]
          },
          "metadata": {
            "tags": [],
            "needs_background": "light"
          }
        },
        {
          "output_type": "stream",
          "text": [
            "Best Epoch: 9 Average loss: 2.2745529918347374 Accuracy: 46.60190922793502\n",
            "CPU times: user 52min 2s, sys: 36min 59s, total: 1h 29min 2s\n",
            "Wall time: 1h 29min 12s\n"
          ],
          "name": "stdout"
        }
      ]
    },
    {
      "cell_type": "markdown",
      "metadata": {
        "id": "jb_sMpG1VdXV",
        "colab_type": "text"
      },
      "source": [
        "```\n",
        "100%|██████████| 586/586 [08:34<00:00,  1.14it/s]\n",
        "Epoch 1/10: train_loss: 3.3827, train_accuracy: 18.1747, val_loss: 3.2366, val_accuracy: 21.9863\n",
        "100%|██████████| 586/586 [08:34<00:00,  1.14it/s]\n",
        "Epoch 2/10: train_loss: 2.4880, train_accuracy: 34.5513, val_loss: 2.7087, val_accuracy: 31.2443\n",
        "100%|██████████| 586/586 [08:34<00:00,  1.14it/s]\n",
        "Epoch 3/10: train_loss: 2.0406, train_accuracy: 44.3347, val_loss: 2.4829, val_accuracy: 35.7260\n",
        "100%|██████████| 586/586 [08:34<00:00,  1.14it/s]\n",
        "Epoch 4/10: train_loss: 1.7187, train_accuracy: 51.9950, val_loss: 2.3534, val_accuracy: 40.8776\n",
        "100%|██████████| 586/586 [08:35<00:00,  1.14it/s]\n",
        "Epoch 5/10: train_loss: 1.4569, train_accuracy: 58.5200, val_loss: 2.1933, val_accuracy: 43.4534\n",
        "100%|██████████| 586/586 [08:35<00:00,  1.14it/s]\n",
        "Epoch 6/10: train_loss: 1.2216, train_accuracy: 64.6750, val_loss: 2.3093, val_accuracy: 42.0600\n",
        "100%|██████████| 586/586 [08:35<00:00,  1.14it/s]\n",
        "Epoch 7/10: train_loss: 0.9990, train_accuracy: 70.5617, val_loss: 2.3303, val_accuracy: 44.1635\n",
        "100%|██████████| 586/586 [08:34<00:00,  1.14it/s]\n",
        "Epoch 8/10: train_loss: 0.7894, train_accuracy: 76.6097, val_loss: 2.3411, val_accuracy: 44.9941\n",
        "100%|██████████| 586/586 [08:35<00:00,  1.14it/s]\n",
        "Epoch 9/10: train_loss: 0.6063, train_accuracy: 81.9947, val_loss: 2.2746, val_accuracy: 46.6019\n",
        "100%|██████████| 586/586 [08:34<00:00,  1.14it/s]\n",
        "Epoch 10/10: train_loss: 0.4450, train_accuracy: 87.0333, val_loss: 2.5251, val_accuracy: 45.2521\n",
        "\n",
        "Best Epoch: 9 Average loss: 2.2745529918347374 Accuracy: 46.60190922793502\n",
        "CPU times: user 52min 2s, sys: 36min 59s, total: 1h 29min 2s\n",
        "Wall time: 1h 29min 12s\n",
        "```\n",
        "![image.png](data:image/png;base64,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)"
      ]
    },
    {
      "cell_type": "markdown",
      "metadata": {
        "id": "KRVCTJGJVxVF",
        "colab_type": "text"
      },
      "source": [
        "## Task 4. Ablations\n",
        "Try to find the best performing model by tuning the model design and hyper-parameters on the validation set. Perform ablation experiments to illustrate the effect of the most important hyper-parameters. Some examples of ablations: training parameters (e.g., optimizer, learning rates, batch size), network architecture (e.g., number of layers, number of units, activation function, normalization layers), model regularization (e.g., data augmentation, dropout, weight decay, early stopping), test-time augmentation, etc...  <br>**Perform at least 5 ablations and report the performance of each on the validation set.**"
      ]
    },
    {
      "cell_type": "markdown",
      "metadata": {
        "id": "94iaAM26iXnH",
        "colab_type": "text"
      },
      "source": [
        "### Ablation 1: Learing Rate"
      ]
    },
    {
      "cell_type": "code",
      "metadata": {
        "id": "aZD6CvbxVxVG",
        "colab_type": "code",
        "colab": {
          "base_uri": "https://localhost:8080/",
          "height": 35
        },
        "outputId": "357228b7-1ea2-4338-8751-b3cab44fe4ce"
      },
      "source": [
        "%%time\n",
        "batch_size = 512\n",
        "train_dataloader = DataLoader(train_dataset, batch_size=batch_size, shuffle=True, num_workers=4)\n",
        "val_dataloader = DataLoader(val_dataset, batch_size=batch_size, shuffle=False, num_workers=4)\n",
        "optimizer = torch.optim.SGD\n",
        "n_epochs = 10\n",
        "loss_fn = nn.NLLLoss()\n",
        "ablation1_results = fit(\"ablation1\", train_dataloader, val_dataloader, [2, 2, 2, 2], optimizer, loss_fn, n_epochs, lr=0.01, momentum=0.9, weight_decay=5e-4)\n",
        "plot_results(ablation1_results, train_dataloader, val_dataloader)"
      ],
      "execution_count": 0,
      "outputs": [
        {
          "output_type": "stream",
          "text": [
            " 44%|████▍     | 257/586 [03:45<04:48,  1.14it/s]"
          ],
          "name": "stderr"
        }
      ]
    },
    {
      "cell_type": "markdown",
      "metadata": {
        "id": "2JLalhFTqOoE",
        "colab_type": "text"
      },
      "source": [
        "The Learning Rate is an important parameter of the Gradient Descent. The rate helps to control the change of weights for our network to the loss of the Gradient Descent. It is one of the most imporant parameters. Playing with it can have a large effect as seen in this ablation. With the change of the rate by factor 10, the result is different by a even larger factor. With a learning rate to large, we are making too huge steps and can miss a local optima, as shown in this ablation 1."
      ]
    },
    {
      "cell_type": "markdown",
      "metadata": {
        "colab_type": "text",
        "id": "qcZj-gnxreTI"
      },
      "source": [
        "### Ablation 2: Batch Size"
      ]
    },
    {
      "cell_type": "code",
      "metadata": {
        "colab_type": "code",
        "id": "JbMzwZ5_reTJ",
        "colab": {}
      },
      "source": [
        "%%time\n",
        "batch_size = 128\n",
        "train_dataloader = DataLoader(train_dataset, batch_size=batch_size, shuffle=True, num_workers=4)\n",
        "val_dataloader = DataLoader(val_dataset, batch_size=batch_size, shuffle=False, num_workers=4)\n",
        "optimizer = torch.optim.SGD\n",
        "n_epochs = 10\n",
        "loss_fn = nn.NLLLoss()\n",
        "ablation1_results = fit(\"ablation1\", train_dataloader, val_dataloader, [2, 2, 2, 2], optimizer, loss_fn, n_epochs, lr=0.02, momentum=0.9, weight_decay=5e-4)\n",
        "plot_results(ablation1_results, train_dataloader, val_dataloader)"
      ],
      "execution_count": 0,
      "outputs": []
    },
    {
      "cell_type": "markdown",
      "metadata": {
        "colab_type": "text",
        "id": "YWToeSyRreTM"
      },
      "source": [
        "The Learning Rate is an important parameter of the Gradient Descent. The rate helps to control the change of weights for our network to the loss of the Gradient Descent. It is one of the most imporant parameters. Playing with it can have a large effect as seen in this ablation. With the change of the rate by factor 10, the result is different by a large factor. With a learning rate to large, we are making too huge steps and can miss a local optima, as shown in this ablation 1."
      ]
    },
    {
      "cell_type": "markdown",
      "metadata": {
        "id": "jAFFLVbaVxVI",
        "colab_type": "text"
      },
      "source": [
        "## Task 5. Model Errors\n",
        "Evaluate the trained model on the validation set and plot 10 random mistakes that your model made."
      ]
    },
    {
      "cell_type": "code",
      "metadata": {
        "id": "N3p6VJmEVxVI",
        "colab_type": "code",
        "colab": {}
      },
      "source": [
        "# write your code"
      ],
      "execution_count": 0,
      "outputs": []
    },
    {
      "cell_type": "markdown",
      "metadata": {
        "id": "b4xtyzlqVxVK",
        "colab_type": "text"
      },
      "source": [
        "## Task 6. Competition time!\n",
        "Read the images from \"data/test\" folder. There are no labels for these images. Run your best model on these images and save the image IDs (names) and predicted label in a file LastName.csv. You will receive a link via email to upload the CSV file to  an online system which will give you the score of your model on the held-out test set. Top 5 students with at least 40% classification accuracy will obtain bonus points."
      ]
    },
    {
      "cell_type": "code",
      "metadata": {
        "id": "HONYoD6LVxVL",
        "colab_type": "code",
        "colab": {}
      },
      "source": [
        "# write your code"
      ],
      "execution_count": 0,
      "outputs": []
    }
  ]
}